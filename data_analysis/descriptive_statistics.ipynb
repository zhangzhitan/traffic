{
 "cells": [
  {
   "cell_type": "code",
   "execution_count": 3,
   "outputs": [],
   "source": [
    "import pandas as pd "
   ],
   "metadata": {
    "collapsed": false,
    "pycharm": {
     "name": "#%%\n",
     "is_executing": false
    }
   }
  },
  {
   "cell_type": "code",
   "execution_count": 4,
   "outputs": [],
   "source": [
    "df = pd.read_csv(\"E:\\\\jan.csv\")"
   ],
   "metadata": {
    "collapsed": false,
    "pycharm": {
     "name": "#%%\n",
     "is_executing": false
    }
   }
  },
  {
   "cell_type": "code",
   "execution_count": 5,
   "outputs": [],
   "source": [
    "pd.set_option('display.max_columns', 20)\n",
    "pd.set_option('display.width', 2000)\n",
    "pd.set_option('display.max_rows', 100)"
   ],
   "metadata": {
    "collapsed": false,
    "pycharm": {
     "name": "#%%\n",
     "is_executing": false
    }
   }
  },
  {
   "cell_type": "code",
   "execution_count": 6,
   "outputs": [],
   "source": [
    "df[\"delayflag\"] = df[\"delayflag\"].astype(\"category\")"
   ],
   "metadata": {
    "collapsed": false,
    "pycharm": {
     "name": "#%%\n",
     "is_executing": false
    }
   }
  },
  {
   "cell_type": "code",
   "execution_count": 7,
   "outputs": [
    {
     "data": {
      "text/plain": "提前    982381\n晚点    815381\n正点    586879\nName: delayflag, dtype: int64"
     },
     "metadata": {},
     "output_type": "execute_result",
     "execution_count": 7
    }
   ],
   "source": [
    "df['delayflag'].value_counts()"
   ],
   "metadata": {
    "collapsed": false,
    "pycharm": {
     "name": "#%%\n",
     "is_executing": false
    }
   }
  },
  {
   "cell_type": "code",
   "execution_count": 8,
   "outputs": [],
   "source": [
    "df['arrtime'] = df.apply(lambda x : x['deptime'] if x['arrtime']=='start' else x['arrtime'], axis=1)\n",
    "df['deptime'] = df.apply(lambda x : x['arrtime'] if x['deptime']=='end' else x['deptime'], axis=1)\n",
    "\n",
    "df['arrtime'] = pd.to_datetime(df['arrtime'], format='%Y-%m-%d %H:%M')\n",
    "df['deptime'] = pd.to_datetime(df['deptime'], format='%Y-%m-%d %H:%M')"
   ],
   "metadata": {
    "collapsed": false,
    "pycharm": {
     "name": "#%%\n",
     "is_executing": false
    }
   }
  },
  {
   "cell_type": "code",
   "execution_count": 9,
   "outputs": [
    {
     "name": "stdout",
     "text": [
      "<class 'pandas.core.frame.DataFrame'>\nRangeIndex: 2384641 entries, 0 to 2384640\nData columns (total 7 columns):\n #   Column        Dtype         \n---  ------        -----         \n 0   realtrainnum  object        \n 1   arrtime       datetime64[ns]\n 2   deptime       datetime64[ns]\n 3   code          object        \n 4   stationname   object        \n 5   delayflag     category      \n 6   delaydetail   int64         \ndtypes: category(1), datetime64[ns](2), int64(1), object(3)\nmemory usage: 111.4+ MB\n"
     ],
     "output_type": "stream"
    }
   ],
   "source": [
    "df.info()"
   ],
   "metadata": {
    "collapsed": false,
    "pycharm": {
     "name": "#%%\n",
     "is_executing": false
    }
   }
  },
  {
   "cell_type": "code",
   "execution_count": 10,
   "outputs": [],
   "source": [
    "df['stay_time'] = ((df['deptime'] - df['arrtime']).dt.seconds.astype('int16'))/60 # 只能转化成天数，秒和微秒"
   ],
   "metadata": {
    "collapsed": false,
    "pycharm": {
     "name": "#%%\n",
     "is_executing": false
    }
   }
  },
  {
   "cell_type": "code",
   "execution_count": 11,
   "outputs": [],
   "source": [
    "df['month'] = df['arrtime'].dt.month\n",
    "df['date'] = df['arrtime'].dt.date\n",
    "df['week'] = df['arrtime'].dt.dayofweek\n",
    "df['hour'] = df['arrtime'].dt.hour"
   ],
   "metadata": {
    "collapsed": false,
    "pycharm": {
     "name": "#%%\n",
     "is_executing": false
    }
   }
  },
  {
   "cell_type": "code",
   "execution_count": 12,
   "outputs": [],
   "source": [
    "df['type'] = df['realtrainnum'].str.get(0)\n",
    "df['type'] = df['type'].str.replace(r\"\\d+\\.?\\d*\", 'P', regex=True)"
   ],
   "metadata": {
    "collapsed": false,
    "pycharm": {
     "name": "#%%\n",
     "is_executing": false
    }
   }
  },
  {
   "cell_type": "code",
   "execution_count": 13,
   "outputs": [
    {
     "data": {
      "text/plain": "        realtrainnum             arrtime             deptime code stationname delayflag  delaydetail  stay_time  month        date  week  hour type\n0               1133 2020-01-04 18:22:00 2020-01-04 18:26:00  XYP         下花园        晚点           25        4.0      1  2020-01-04     5    18    P\n1               1133 2020-01-05 08:39:00 2020-01-05 08:47:00  BTC          包头        晚点            2        8.0      1  2020-01-05     6     8    P\n2               1133 2020-01-05 10:29:00 2020-01-05 10:55:00  WYC          五原        晚点            3       26.0      1  2020-01-05     6    10    P\n3               1133 2020-01-06 12:16:00 2020-01-06 12:19:00  BAC        巴彦高勒        晚点            8        3.0      1  2020-01-06     0    12    P\n4               1133 2020-01-12 19:15:00 2020-01-12 19:26:00  ZMP         张家口        提前            3       11.0      1  2020-01-12     6    19    P\n...              ...                 ...                 ...  ...         ...       ...          ...        ...    ...         ...   ...   ...  ...\n2384636          Z99 2020-01-15 17:45:00 2020-01-15 17:45:00  SHH          上海        正点            0        0.0      1  2020-01-15     2    17    Z\n2384637          Z99 2020-01-03 10:06:00 2020-01-03 10:06:00  GGQ         广州东        提前           10        0.0      1  2020-01-03     4    10    Z\n2384638          Z99 2020-01-09 10:06:00 2020-01-09 10:06:00  GGQ         广州东        提前           15        0.0      1  2020-01-09     3    10    Z\n2384639          Z99 2020-01-15 02:57:00 2020-01-15 03:14:00  ZZQ          株洲        提前            2       17.0      1  2020-01-15     2     2    Z\n2384640          Z99 2020-01-19 10:06:00 2020-01-19 10:06:00  GGQ         广州东        提前            6        0.0      1  2020-01-19     6    10    Z\n\n[2384641 rows x 13 columns]",
      "text/html": "<div>\n<style scoped>\n    .dataframe tbody tr th:only-of-type {\n        vertical-align: middle;\n    }\n\n    .dataframe tbody tr th {\n        vertical-align: top;\n    }\n\n    .dataframe thead th {\n        text-align: right;\n    }\n</style>\n<table border=\"1\" class=\"dataframe\">\n  <thead>\n    <tr style=\"text-align: right;\">\n      <th></th>\n      <th>realtrainnum</th>\n      <th>arrtime</th>\n      <th>deptime</th>\n      <th>code</th>\n      <th>stationname</th>\n      <th>delayflag</th>\n      <th>delaydetail</th>\n      <th>stay_time</th>\n      <th>month</th>\n      <th>date</th>\n      <th>week</th>\n      <th>hour</th>\n      <th>type</th>\n    </tr>\n  </thead>\n  <tbody>\n    <tr>\n      <th>0</th>\n      <td>1133</td>\n      <td>2020-01-04 18:22:00</td>\n      <td>2020-01-04 18:26:00</td>\n      <td>XYP</td>\n      <td>下花园</td>\n      <td>晚点</td>\n      <td>25</td>\n      <td>4.0</td>\n      <td>1</td>\n      <td>2020-01-04</td>\n      <td>5</td>\n      <td>18</td>\n      <td>P</td>\n    </tr>\n    <tr>\n      <th>1</th>\n      <td>1133</td>\n      <td>2020-01-05 08:39:00</td>\n      <td>2020-01-05 08:47:00</td>\n      <td>BTC</td>\n      <td>包头</td>\n      <td>晚点</td>\n      <td>2</td>\n      <td>8.0</td>\n      <td>1</td>\n      <td>2020-01-05</td>\n      <td>6</td>\n      <td>8</td>\n      <td>P</td>\n    </tr>\n    <tr>\n      <th>2</th>\n      <td>1133</td>\n      <td>2020-01-05 10:29:00</td>\n      <td>2020-01-05 10:55:00</td>\n      <td>WYC</td>\n      <td>五原</td>\n      <td>晚点</td>\n      <td>3</td>\n      <td>26.0</td>\n      <td>1</td>\n      <td>2020-01-05</td>\n      <td>6</td>\n      <td>10</td>\n      <td>P</td>\n    </tr>\n    <tr>\n      <th>3</th>\n      <td>1133</td>\n      <td>2020-01-06 12:16:00</td>\n      <td>2020-01-06 12:19:00</td>\n      <td>BAC</td>\n      <td>巴彦高勒</td>\n      <td>晚点</td>\n      <td>8</td>\n      <td>3.0</td>\n      <td>1</td>\n      <td>2020-01-06</td>\n      <td>0</td>\n      <td>12</td>\n      <td>P</td>\n    </tr>\n    <tr>\n      <th>4</th>\n      <td>1133</td>\n      <td>2020-01-12 19:15:00</td>\n      <td>2020-01-12 19:26:00</td>\n      <td>ZMP</td>\n      <td>张家口</td>\n      <td>提前</td>\n      <td>3</td>\n      <td>11.0</td>\n      <td>1</td>\n      <td>2020-01-12</td>\n      <td>6</td>\n      <td>19</td>\n      <td>P</td>\n    </tr>\n    <tr>\n      <th>...</th>\n      <td>...</td>\n      <td>...</td>\n      <td>...</td>\n      <td>...</td>\n      <td>...</td>\n      <td>...</td>\n      <td>...</td>\n      <td>...</td>\n      <td>...</td>\n      <td>...</td>\n      <td>...</td>\n      <td>...</td>\n      <td>...</td>\n    </tr>\n    <tr>\n      <th>2384636</th>\n      <td>Z99</td>\n      <td>2020-01-15 17:45:00</td>\n      <td>2020-01-15 17:45:00</td>\n      <td>SHH</td>\n      <td>上海</td>\n      <td>正点</td>\n      <td>0</td>\n      <td>0.0</td>\n      <td>1</td>\n      <td>2020-01-15</td>\n      <td>2</td>\n      <td>17</td>\n      <td>Z</td>\n    </tr>\n    <tr>\n      <th>2384637</th>\n      <td>Z99</td>\n      <td>2020-01-03 10:06:00</td>\n      <td>2020-01-03 10:06:00</td>\n      <td>GGQ</td>\n      <td>广州东</td>\n      <td>提前</td>\n      <td>10</td>\n      <td>0.0</td>\n      <td>1</td>\n      <td>2020-01-03</td>\n      <td>4</td>\n      <td>10</td>\n      <td>Z</td>\n    </tr>\n    <tr>\n      <th>2384638</th>\n      <td>Z99</td>\n      <td>2020-01-09 10:06:00</td>\n      <td>2020-01-09 10:06:00</td>\n      <td>GGQ</td>\n      <td>广州东</td>\n      <td>提前</td>\n      <td>15</td>\n      <td>0.0</td>\n      <td>1</td>\n      <td>2020-01-09</td>\n      <td>3</td>\n      <td>10</td>\n      <td>Z</td>\n    </tr>\n    <tr>\n      <th>2384639</th>\n      <td>Z99</td>\n      <td>2020-01-15 02:57:00</td>\n      <td>2020-01-15 03:14:00</td>\n      <td>ZZQ</td>\n      <td>株洲</td>\n      <td>提前</td>\n      <td>2</td>\n      <td>17.0</td>\n      <td>1</td>\n      <td>2020-01-15</td>\n      <td>2</td>\n      <td>2</td>\n      <td>Z</td>\n    </tr>\n    <tr>\n      <th>2384640</th>\n      <td>Z99</td>\n      <td>2020-01-19 10:06:00</td>\n      <td>2020-01-19 10:06:00</td>\n      <td>GGQ</td>\n      <td>广州东</td>\n      <td>提前</td>\n      <td>6</td>\n      <td>0.0</td>\n      <td>1</td>\n      <td>2020-01-19</td>\n      <td>6</td>\n      <td>10</td>\n      <td>Z</td>\n    </tr>\n  </tbody>\n</table>\n<p>2384641 rows × 13 columns</p>\n</div>"
     },
     "metadata": {},
     "output_type": "execute_result",
     "execution_count": 13
    }
   ],
   "source": [
    "df"
   ],
   "metadata": {
    "collapsed": false,
    "pycharm": {
     "name": "#%%\n",
     "is_executing": false
    }
   }
  },
  {
   "cell_type": "code",
   "execution_count": 14,
   "outputs": [],
   "source": [
    "import matplotlib\n",
    "font = {'family': 'SimHei'}\n",
    "matplotlib.rc('font', **font)"
   ],
   "metadata": {
    "collapsed": false,
    "pycharm": {
     "name": "#%%\n",
     "is_executing": false
    }
   }
  },
  {
   "cell_type": "code",
   "execution_count": 15,
   "outputs": [
    {
     "data": {
      "text/plain": "<Figure size 1152x360 with 1 Axes>",
      "image/png": "[encoded data removed]"
     },
     "metadata": {
      "needs_background": "light"
     },
     "output_type": "display_data"
    }
   ],
   "source": [
    "group_date = df.groupby('date')['delaydetail'].median()\n",
    "group_date.index = pd.to_datetime(group_date.index)\n",
    "import matplotlib.pyplot as plt\n",
    "plt.figure(figsize=(16, 5))\n",
    "plt.plot(group_date.index, group_date.values, '-o', color='orange', label='chechehcehcehcehche')\n",
    "plt.legend()\n",
    "plt.show()"
   ],
   "metadata": {
    "collapsed": false,
    "pycharm": {
     "name": "#%%\n",
     "is_executing": false
    }
   }
  },
  {
   "cell_type": "code",
   "execution_count": 15,
   "outputs": [],
   "source": [
    "\n"
   ],
   "metadata": {
    "collapsed": false,
    "pycharm": {
     "name": "#%%\n",
     "is_executing": false
    }
   }
  }
 ],
 "metadata": {
  "kernelspec": {
   "name": "pycharm-90517497",
   "language": "python",
   "display_name": "PyCharm (traffic)"
  },
  "language_info": {
   "codemirror_mode": {
    "name": "ipython",
    "version": 2
   },
   "file_extension": ".py",
   "mimetype": "text/x-python",
   "name": "python",
   "nbconvert_exporter": "python",
   "pygments_lexer": "ipython2",
   "version": "2.7.6"
  },
  "pycharm": {
   "stem_cell": {
    "cell_type": "raw",
    "source": [],
    "metadata": {
     "collapsed": false
    }
   }
  }
 },
 "nbformat": 4,
 "nbformat_minor": 0
}